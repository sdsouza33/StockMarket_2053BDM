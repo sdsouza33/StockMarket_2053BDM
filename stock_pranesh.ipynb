{
 "cells": [
  {
   "cell_type": "code",
   "execution_count": null,
   "metadata": {},
   "outputs": [],
   "source": [
    "import numpy as np\n",
    "import pandas as pd\n",
    "import matplotlib.pyplot as plt\n",
    "from keras.models import Sequential\n",
    "from keras.layers import Dense, LSTM\n",
    "df = pd.read_csv(r\"C:\\Users\\user\\Desktop\\DATA BACK UP\\Data_sdsouza33\\LAMBTON\\SEM 2\\BDM 2053 Big data stats and algorithm\\project\\AMZN_SAMPLE_GROUP4.csv\")\n",
    "# Extract the closing price\n",
    "data = df.filter(['Close']).values\n",
    "\n",
    "# Normalize the data\n",
    "from sklearn.preprocessing import MinMaxScaler\n",
    "scaler = MinMaxScaler(feature_range=(0, 1))\n",
    "scaled_data = scaler.fit_transform(data)\n",
    "training_size = int(len(scaled_data) * 0.8)\n",
    "train_data = scaled_data[0:training_size, :]\n",
    "test_data = scaled_data[training_size:, :]\n",
    "def create_sequences(data, window_size):\n",
    "    X = []\n",
    "    y = []\n",
    "    for i in range(window_size, len(data)):\n",
    "        X.append(data[i-window_size:i, 0])\n",
    "        y.append(data[i, 0])\n",
    "    return np.array(X), np.array(y)\n",
    "\n",
    "window_size = 60\n",
    "X_train, y_train = create_sequences(train_data, window_size)\n",
    "X_test, y_test = create_sequences(test_data, window_size)\n",
    "model = Sequential()\n",
    "model.add(LSTM(50, return_sequences=True, input_shape=(window_size, 1)))\n",
    "model.add(LSTM(50))\n",
    "model.add(Dense(1))\n",
    "model.compile(optimizer='adam', loss='mean_squared_error')\n",
    "model.fit(X_train, y_train, epochs=100, batch_size=32)\n",
    "test_predictions = model.predict(X_test)\n",
    "\n",
    "\n",
    "test_predictions = scaler.inverse_transform(test_predictions)\n",
    "\n",
    "# Calculate the root mean squared error (RMSE)\n",
    "\n",
    "\n"
   ]
  },
  {
   "cell_type": "code",
   "execution_count": 7,
   "metadata": {},
   "outputs": [
    {
     "name": "stdout",
     "output_type": "stream",
     "text": [
      "(140, 1)\n",
      "RMSE: 0.6118330629513778\n",
      "MAE: 0.5985550881791637\n"
     ]
    }
   ],
   "source": [
    "print(test_predictions.shape)\n",
    "\n",
    "\n",
    "from sklearn.metrics import mean_squared_error,mean_absolute_error\n",
    "rmse = np.sqrt(mean_squared_error(y_test, test_predictions))\n",
    "print('RMSE:', rmse)\n",
    "mae = mean_absolute_error(y_test,test_predictions)\n",
    "print('MAE:',mae)\n",
    "\n",
    "\n",
    "# plt.plot(test_predictions, label='Predicted')\n",
    "# plt.legend()\n",
    "# plt.show()"
   ]
  },
  {
   "cell_type": "code",
   "execution_count": null,
   "metadata": {},
   "outputs": [],
   "source": []
  }
 ],
 "metadata": {
  "kernelspec": {
   "display_name": "Python 3",
   "language": "python",
   "name": "python3"
  },
  "language_info": {
   "codemirror_mode": {
    "name": "ipython",
    "version": 3
   },
   "file_extension": ".py",
   "mimetype": "text/x-python",
   "name": "python",
   "nbconvert_exporter": "python",
   "pygments_lexer": "ipython3",
   "version": "3.8.2"
  },
  "orig_nbformat": 4
 },
 "nbformat": 4,
 "nbformat_minor": 2
}
